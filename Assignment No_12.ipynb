{
 "cells": [
  {
   "cell_type": "code",
   "execution_count": null,
   "id": "a904cfdd",
   "metadata": {},
   "outputs": [],
   "source": [
    "                           Python Basic Assignment 12\n",
    "    "
   ]
  },
  {
   "cell_type": "code",
   "execution_count": 5,
   "id": "b1c82713",
   "metadata": {},
   "outputs": [
    {
     "name": "stdout",
     "output_type": "stream",
     "text": [
      "Object `opened` not found.\n",
      "Defaulting to user installation because normal site-packages is not writeable\n",
      "Requirement already satisfied: PyPDF2 in c:\\users\\rohini\\appdata\\roaming\\python\\python39\\site-packages (2.8.1)\n",
      "Requirement already satisfied: typing-extensions in c:\\programdata\\anaconda3\\lib\\site-packages (from PyPDF2) (4.1.1)\n"
     ]
    }
   ],
   "source": [
    "1. In what modes should the PdfFileReader() and PdfFileWriter() File objects will be opened?\n",
    "Answer:-\n",
    " These files will be opened in binary mode., read binary (rb) for PdfFileREader() and write\n",
    " binary (wb) PdfFileWriter()\n",
    "!pip install PyPDF2"
   ]
  },
  {
   "cell_type": "code",
   "execution_count": 1,
   "id": "bc29e15d",
   "metadata": {},
   "outputs": [
    {
     "ename": "ModuleNotFoundError",
     "evalue": "No module named 'Student'",
     "output_type": "error",
     "traceback": [
      "\u001b[1;31m---------------------------------------------------------------------------\u001b[0m",
      "\u001b[1;31mModuleNotFoundError\u001b[0m                       Traceback (most recent call last)",
      "Input \u001b[1;32mIn [1]\u001b[0m, in \u001b[0;36m<cell line: 1>\u001b[1;34m()\u001b[0m\n\u001b[1;32m----> 1\u001b[0m \u001b[38;5;28;01mimport\u001b[39;00m \u001b[38;5;21;01mStudent\u001b[39;00m \u001b[38;5;28;01mas\u001b[39;00m \u001b[38;5;21;01mpdf\u001b[39;00m\n\u001b[0;32m      2\u001b[0m pdfFileObj \u001b[38;5;241m=\u001b[39m \u001b[38;5;28mopen\u001b[39m(\u001b[38;5;124m\"\u001b[39m\u001b[38;5;124mcardealer.pdf\u001b[39m\u001b[38;5;124m\"\u001b[39m,\u001b[38;5;124m'\u001b[39m\u001b[38;5;124mrb\u001b[39m\u001b[38;5;124m'\u001b[39m)\n\u001b[0;32m      3\u001b[0m pdfReader \u001b[38;5;241m=\u001b[39m pdf\u001b[38;5;241m.\u001b[39mPdfFileReader(pdfFileObj)\n",
      "\u001b[1;31mModuleNotFoundError\u001b[0m: No module named 'Student'"
     ]
    }
   ],
   "source": [
    "Q.2 From a PdfFileReader object, how do you get a Page object for page 5?\n",
    "\n",
    "Answer:- Calling getPage(4) will return a Page object for page 5 since page 0 is the first page\n",
    "\n",
    "import Student as pdf\n",
    "pdfFileObj = open(\"cardealer.pdf\",'rb')\n",
    "pdfReader = pdf.PdfFileReader(pdfFileObj)\n",
    "pageObj = pdfReader.getPage(4)\n",
    "pageObj.extractText()"
   ]
  },
  {
   "cell_type": "code",
   "execution_count": null,
   "id": "8b342ad0",
   "metadata": {},
   "outputs": [],
   "source": [
    "Q. 3 What PdfFileReader variable stores the number of pages in the PDF document?\n",
    "Answer:-\n",
    "import PyPDF2 as pdf\n",
    "pdfFileObj = open(\"cardealer.pdf\",'rb')\n",
    "pdfReader = pdf.PdfFileReader(pdfFileObj)\n",
    "pdfReader.numPages"
   ]
  },
  {
   "cell_type": "code",
   "execution_count": null,
   "id": "c44600ed",
   "metadata": {},
   "outputs": [],
   "source": [
    "Q.4. If a PdfFileReader object’s PDF is encrypted with the password swordfish,\n",
    "  what must you do before you can obtain Page objects from it?\n",
    "Answer:- Before we obtain the page object, the pdf has to be decrypted by \n",
    "    calling .decrypt('swordfish')"
   ]
  },
  {
   "cell_type": "code",
   "execution_count": null,
   "id": "1f1f63c4",
   "metadata": {},
   "outputs": [],
   "source": [
    "Q.5. What methods do you use to rotate a page?\n",
    "Answer:- \n",
    "    #pageObj.rotateClockwise(180)\n",
    "\n",
    "#The rotateClockwise() and rotateCounterClockwise() methods. The degrees to rota"
   ]
  },
  {
   "cell_type": "code",
   "execution_count": null,
   "id": "02cbd2ae",
   "metadata": {},
   "outputs": [],
   "source": [
    "Q 6. What is the difference between a Run object and a Paragraph object?\n",
    "Answer:-\n",
    "1) Paragraph Object : A document contains multiple paragraphs.\n",
    "    A paragraph begins on a new line and contains multiple runs. \n",
    "    The Document object contains a list of Paragraph objects for \n",
    "    the paragraphs in the document. (A new paragraph begins whenever \n",
    "    the user presses ENTER or RETURN while typing in a Word document.)\n",
    "2) Run Objects : Runs are contiguous groups of characters within a paragraph with the same style"
   ]
  },
  {
   "cell_type": "code",
   "execution_count": null,
   "id": "368097c4",
   "metadata": {},
   "outputs": [],
   "source": [
    "Q 7. How do you obtain a list of Paragraph objects for a Document object that’s stored \n",
    "in a variable named doc?\n",
    "answer:-\n",
    "#!pip install python-docx\n",
    "import docx\n",
    "doc = docx.Document('abc.docx')\n",
    "doc.paragraphs\n",
    "#By using doc.paragraphs"
   ]
  },
  {
   "cell_type": "code",
   "execution_count": null,
   "id": "06c3991e",
   "metadata": {},
   "outputs": [],
   "source": [
    "Q.8. What type of object has bold, underline, italic, strike, and outline variables?\n",
    "Answer:- A Run object has bold, underline,italic,strike and outline variables."
   ]
  },
  {
   "cell_type": "code",
   "execution_count": null,
   "id": "70278e19",
   "metadata": {},
   "outputs": [],
   "source": [
    "Q.9. What is the difference between False, True, and None for the bold variable?\n",
    "Answer:-\n",
    "   1)  Runs can be further styled using text attributes. Each attribute can be set \n",
    "     to one of three values:\n",
    "    True (the attribute is always enabled, no matter what other styles are applied to the run),\n",
    "    False (the attribute is always disabled),\n",
    "    None (defaults to whatever the run’s style is set to)\n",
    "\n",
    "   2)True always makes the Run object bolded and False makes it always not bolded, no matter what\n",
    "    the style’s bold setting is. None will make the Run object just use the style’s bold setting"
   ]
  },
  {
   "cell_type": "code",
   "execution_count": null,
   "id": "b496b6eb",
   "metadata": {},
   "outputs": [],
   "source": [
    "Q.10. How do you create a Document object for a new Word document?\n",
    "Answer:-\n",
    "    By Calling the docx.Document() function. \n"
   ]
  },
  {
   "cell_type": "code",
   "execution_count": null,
   "id": "b81a3d27",
   "metadata": {},
   "outputs": [],
   "source": [
    "Q.11. How do you add a paragraph with the text 'Hello, there!' to a Document object\n",
    "stored in a variable named doc?\n",
    "Answer:-\n",
    "    \n",
    "import docx\n",
    "doc = docx.Document()\n",
    "\n",
    "doc.add_paragraph('Hello there!')\n",
    "doc.save('hellothere.docx')"
   ]
  },
  {
   "cell_type": "code",
   "execution_count": null,
   "id": "9d7250f5",
   "metadata": {},
   "outputs": [],
   "source": [
    "12. What integers represent the levels of headings available in Word documents?\n",
    "Answer:-\n",
    "   1) integer from 0 to 4\n",
    "   2)The arguments to add_heading() are a string of the heading text and an integer\n",
    "    from 0 to 4. The integer 0 makes the heading the Title style, which is used for \n",
    "    the top of the document. Integers 1 to 4 are for various heading levels, with 1\n",
    "    being the main heading and 4 the lowest subheading"
   ]
  },
  {
   "cell_type": "code",
   "execution_count": null,
   "id": "994e4743",
   "metadata": {},
   "outputs": [],
   "source": []
  }
 ],
 "metadata": {
  "kernelspec": {
   "display_name": "Python 3 (ipykernel)",
   "language": "python",
   "name": "python3"
  },
  "language_info": {
   "codemirror_mode": {
    "name": "ipython",
    "version": 3
   },
   "file_extension": ".py",
   "mimetype": "text/x-python",
   "name": "python",
   "nbconvert_exporter": "python",
   "pygments_lexer": "ipython3",
   "version": "3.9.12"
  }
 },
 "nbformat": 4,
 "nbformat_minor": 5
}
